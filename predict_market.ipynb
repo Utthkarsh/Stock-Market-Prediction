{
 "cells": [
  {
   "cell_type": "code",
   "execution_count": 76,
   "metadata": {},
   "outputs": [],
   "source": [
    "import yfinance as yf\n",
    "import pandas as pd\n",
    "from sklearn.ensemble import RandomForestClassifier\n",
    "from sklearn.metrics import precision_score"
   ]
  },
  {
   "cell_type": "markdown",
   "metadata": {},
   "source": [
    "Stock market data of s&p500 is obtained from yahooFinance.\n",
    "Stock data is modified to begin from 1990 to current.\n",
    "The machine learning model will predict the next day's data using previous data.\n",
    "The implementation is designed so that only on days when the model predicts the price to go up, the stock will be bought.\n",
    "Days where the algorithm projects the price to go down but increases instead are ignored. This implementation strictly tries to minimize loss.\n",
    "The implementation is more focused on precision than recall.\n"
   ]
  },
  {
   "cell_type": "code",
   "execution_count": 77,
   "metadata": {},
   "outputs": [],
   "source": [
    "sp500 = yf.Ticker('^GSPC')\n",
    "sp500 = sp500.history(period='max')\n",
    "del sp500[\"Dividends\"]\n",
    "del sp500[\"Stock Splits\"]\n",
    "sp500[\"Tomorrow\"] = sp500[\"Close\"].shift(-1)\n",
    "sp500[\"Target\"] = (sp500[\"Tomorrow\"] > sp500[\"Close\"]).astype(int)\n",
    "sp500 = sp500.loc[\"1990-01-01\":].copy()"
   ]
  },
  {
   "cell_type": "markdown",
   "metadata": {},
   "source": [
    "Mulitple trends of the s&p500 are examined to get a better prediction of the stock market. Trends of 2 days, 1 week, 3 months, 1 year and 4 years are examined."
   ]
  },
  {
   "cell_type": "code",
   "execution_count": 78,
   "metadata": {},
   "outputs": [],
   "source": [
    "horizons = [2,5,60,250,1000]\n",
    "new_predictions = []\n",
    "\n",
    "for horizon in horizons:\n",
    "    rolling_avg = sp500.rolling(horizon).mean()\n",
    "    ratio = f\"Close_Ratio_{horizon}\"\n",
    "    sp500[ratio] = sp500[\"Close\"]/rolling_avg[\"Close\"]\n",
    "    trend = f\"Trend_Column_{horizon}\"\n",
    "    sp500[trend] = sp500.shift(1).rolling(horizon).sum()[\"Target\"]\n",
    "    new_predictions += [ratio,trend]\n"
   ]
  },
  {
   "cell_type": "code",
   "execution_count": 79,
   "metadata": {},
   "outputs": [],
   "source": [
    "sp500 = sp500.dropna(subset=sp500.columns[sp500.columns != \"Tomorrow\"])"
   ]
  },
  {
   "cell_type": "markdown",
   "metadata": {},
   "source": [
    "Random Forest regression model is used to predict whether the price went up or down from yesterday.\n",
    "The backtest function is used to train and test the s&p500 data with the help of the predict function."
   ]
  },
  {
   "cell_type": "code",
   "execution_count": 80,
   "metadata": {},
   "outputs": [],
   "source": [
    "model = RandomForestClassifier(n_estimators=200,min_samples_split=50,random_state=1)\n",
    "\n",
    "def predict(train,test,predict_arr,model):\n",
    "    model.fit(train[predict_arr],train[\"Target\"])\n",
    "    predictions = model.predict_proba(test[predict_arr])[:,1]\n",
    "    predictions[predictions >= 0.6] = 1\n",
    "    predictions[predictions < 0.6] = 0\n",
    "    predictions = pd.Series(predictions,index=test.index,name=\"Predictions\")\n",
    "    combined = pd.concat([test[\"Target\"],predictions],axis=1)\n",
    "    return combined\n",
    "def backtest(data,model,predict_arr,start,step):\n",
    "    yrly_pred = []\n",
    "    for i in range(start,data.shape[0],step):\n",
    "        train = data.iloc[0:i].copy()\n",
    "        test = data.iloc[i:(i+step)].copy()\n",
    "        prediction = predict(train,test,predict_arr,model)\n",
    "        yrly_pred.append(prediction)\n",
    "    return pd.concat(yrly_pred)"
   ]
  },
  {
   "cell_type": "code",
   "execution_count": 90,
   "metadata": {},
   "outputs": [],
   "source": [
    "predictions = backtest(sp500,model,new_predictions,2500,250)"
   ]
  },
  {
   "cell_type": "markdown",
   "metadata": {},
   "source": [
    "S&P500 Positive and negative closing percentages if one were to buy the stock and sell at closing everyday."
   ]
  },
  {
   "cell_type": "code",
   "execution_count": 91,
   "metadata": {},
   "outputs": [
    {
     "data": {
      "text/plain": [
       "1    0.545971\n",
       "0    0.454029\n",
       "Name: Target, dtype: float64"
      ]
     },
     "execution_count": 91,
     "metadata": {},
     "output_type": "execute_result"
    }
   ],
   "source": [
    "predictions[\"Target\"].value_counts() / predictions.shape[0]"
   ]
  },
  {
   "cell_type": "markdown",
   "metadata": {},
   "source": [
    "Precision score accuracy of program's predictions compared to actual predictions."
   ]
  },
  {
   "cell_type": "code",
   "execution_count": 92,
   "metadata": {},
   "outputs": [
    {
     "data": {
      "text/plain": [
       "0.5691358024691358"
      ]
     },
     "execution_count": 92,
     "metadata": {},
     "output_type": "execute_result"
    }
   ],
   "source": [
    "precision_score(predictions[\"Target\"],predictions[\"Predictions\"])"
   ]
  },
  {
   "cell_type": "markdown",
   "metadata": {},
   "source": [
    "Program shows a higher percentage of positive predictions over buying and selling s&p500 stock at closing everyday."
   ]
  },
  {
   "cell_type": "code",
   "execution_count": 94,
   "metadata": {},
   "outputs": [
    {
     "name": "stdout",
     "output_type": "stream",
     "text": [
      "The market price is expected to decrease from today at closing.\n"
     ]
    }
   ],
   "source": [
    "check = predictions[\"Predictions\"].iat[-1]\n",
    "if check == 0:\n",
    "    print(\"The market price is expected to decrease from today at closing.\")\n",
    "else:\n",
    "    print(\"The market price is expected to increase from today at closing.\")\n"
   ]
  }
 ],
 "metadata": {
  "kernelspec": {
   "display_name": "Python 3.10.6 ('env_testpy')",
   "language": "python",
   "name": "python3"
  },
  "language_info": {
   "codemirror_mode": {
    "name": "ipython",
    "version": 3
   },
   "file_extension": ".py",
   "mimetype": "text/x-python",
   "name": "python",
   "nbconvert_exporter": "python",
   "pygments_lexer": "ipython3",
   "version": "3.10.6"
  },
  "orig_nbformat": 4,
  "vscode": {
   "interpreter": {
    "hash": "fb7597de6ba9e4837ca82ac8a8d322c7e534aed8282b43b97519a9b656fc2703"
   }
  }
 },
 "nbformat": 4,
 "nbformat_minor": 2
}
